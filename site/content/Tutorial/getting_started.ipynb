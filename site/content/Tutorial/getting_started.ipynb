{
 "cells": [
  {
   "cell_type": "markdown",
   "metadata": {},
   "source": [
    "TRIOSlib contains \n",
    "\n",
    "## Instalation\n",
    "\n",
    "Currently, TRIOSlib 2.0 is available only in the *trios2.0* branch of our git repository. "
   ]
  },
  {
   "cell_type": "code",
   "execution_count": null,
   "metadata": {
    "collapsed": true
   },
   "outputs": [],
   "source": []
  }
 ],
 "metadata": {
  "Author": "Igor Montagner",
  "Category": "Tutorial",
  "Date": "2015-5-16",
  "Tags": "",
  "Title": "Getting started with TRIOSlib",
  "kernelspec": {
   "display_name": "Python 2",
   "language": "python",
   "name": "python2"
  },
  "language_info": {
   "codemirror_mode": {
    "name": "ipython",
    "version": 2
   },
   "file_extension": ".py",
   "mimetype": "text/x-python",
   "name": "python",
   "nbconvert_exporter": "python",
   "pygments_lexer": "ipython2",
   "version": "2.7.9"
  },
  "name": "getting_started",
  "status": "draft"
 },
 "nbformat": 4,
 "nbformat_minor": 0
}
